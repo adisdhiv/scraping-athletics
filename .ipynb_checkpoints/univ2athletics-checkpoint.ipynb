{
 "cells": [
  {
   "cell_type": "code",
   "execution_count": 55,
   "metadata": {},
   "outputs": [],
   "source": [
    "from selenium import webdriver\n",
    "import pandas as pd\n",
    "from selenium.common.exceptions import NoSuchElementException"
   ]
  },
  {
   "cell_type": "code",
   "execution_count": 56,
   "metadata": {},
   "outputs": [
    {
     "name": "stdout",
     "output_type": "stream",
     "text": [
      "                       list\n",
      "0     http://www.adams.edu/\n",
      "1   http://www.adelphi.edu/\n",
      "2     http://www.adler.edu/\n",
      "3    http://www.adrian.edu/\n",
      "4  http://www.scottlan.edu/\n",
      "5   http://www.afit.af.mil/\n",
      "6      http://www.aamu.edu/\n"
     ]
    }
   ],
   "source": [
    "df = pd.read_csv(r'Book1.csv')\n",
    "print(df)"
   ]
  },
  {
   "cell_type": "code",
   "execution_count": 74,
   "metadata": {},
   "outputs": [],
   "source": [
    "driver = webdriver.Firefox() "
   ]
  },
  {
   "cell_type": "code",
   "execution_count": 87,
   "metadata": {},
   "outputs": [
    {
     "name": "stdout",
     "output_type": "stream",
     "text": [
      "Searching for http://www.adams.edu/\n",
      "Searching Athletics\n",
      "Searching ATHLETICS\n"
     ]
    },
    {
     "name": "stderr",
     "output_type": "stream",
     "text": [
      "C:\\Users\\Dhivya\\anaconda3\\lib\\site-packages\\ipykernel_launcher.py:13: DeprecationWarning: use driver.switch_to.window instead\n",
      "  del sys.path[0]\n"
     ]
    },
    {
     "name": "stdout",
     "output_type": "stream",
     "text": [
      "Atheletics url =https://asugrizzlies.com/\n",
      "Searching for http://www.adelphi.edu/\n",
      "Searching Athletics\n",
      "Atheletics url =https://aupanthers.com/\n",
      "Searching for http://www.adler.edu/\n",
      "Searching Athletics\n",
      "Searching ATHLETICS\n",
      "Searching Sports\n",
      "Searching SPORTS\n",
      "Searching for http://www.adrian.edu/\n",
      "Searching Athletics\n",
      "Atheletics url =http://adrian.edu/\n",
      "Searching for http://www.scottlan.edu/\n",
      "Searching Athletics\n",
      "Searching ATHLETICS\n",
      "Searching Sports\n",
      "Searching SPORTS\n",
      "Searching for http://www.afit.af.mil/\n",
      "Searching Athletics\n",
      "Searching ATHLETICS\n",
      "Searching Sports\n",
      "Searching SPORTS\n",
      "Searching for http://www.aamu.edu/\n",
      "Searching Athletics\n",
      "Atheletics url =https://www.aamu.edu/athletics/index.html\n"
     ]
    }
   ],
   "source": [
    "elements = ['Athletics', 'ATHLETICS', 'Sports', 'SPORTS']\n",
    "athleticsurl = []\n",
    "for i in range(len(df)):\n",
    "    flag = False\n",
    "    driver.get(df['list'][i])\n",
    "    univurl = df['list'][i]\n",
    "    print('Searching for ' + univurl)\n",
    "    for j in elements:\n",
    "        print('Searching '+ j)\n",
    "        try:\n",
    "            link = driver.find_element_by_link_text(j)\n",
    "            link.click()\n",
    "            driver.switch_to_window(driver.window_handles[-1])\n",
    "            WebDriverWait(driver, 5)\n",
    "            flag = True\n",
    "            print('Atheletics url =' + driver.current_url)\n",
    "            if flag:\n",
    "                atheleticsurl.append(driver.current_url)\n",
    "                break\n",
    "        except NoSuchElementException:\n",
    "            pass"
   ]
  },
  {
   "cell_type": "code",
   "execution_count": 88,
   "metadata": {},
   "outputs": [
    {
     "data": {
      "text/plain": [
       "['https://asugrizzlies.com/',\n",
       " 'https://asugrizzlies.com/',\n",
       " 'https://aupanthers.com/',\n",
       " 'http://adrian.edu/',\n",
       " 'https://www.aamu.edu/athletics/index.html',\n",
       " 'https://asugrizzlies.com/',\n",
       " 'https://aupanthers.com/',\n",
       " 'http://adrian.edu/',\n",
       " 'https://www.aamu.edu/athletics/index.html']"
      ]
     },
     "execution_count": 88,
     "metadata": {},
     "output_type": "execute_result"
    }
   ],
   "source": [
    "atheleticsurl"
   ]
  },
  {
   "cell_type": "code",
   "execution_count": null,
   "metadata": {},
   "outputs": [],
   "source": []
  },
  {
   "cell_type": "code",
   "execution_count": null,
   "metadata": {},
   "outputs": [],
   "source": []
  },
  {
   "cell_type": "code",
   "execution_count": null,
   "metadata": {},
   "outputs": [],
   "source": []
  }
 ],
 "metadata": {
  "kernelspec": {
   "display_name": "Python 3",
   "language": "python",
   "name": "python3"
  },
  "language_info": {
   "codemirror_mode": {
    "name": "ipython",
    "version": 3
   },
   "file_extension": ".py",
   "mimetype": "text/x-python",
   "name": "python",
   "nbconvert_exporter": "python",
   "pygments_lexer": "ipython3",
   "version": "3.7.6"
  }
 },
 "nbformat": 4,
 "nbformat_minor": 4
}
