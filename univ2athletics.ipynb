{
 "cells": [
  {
   "cell_type": "code",
   "execution_count": 126,
   "metadata": {},
   "outputs": [],
   "source": [
    "#import libraries\n",
    "from selenium import webdriver\n",
    "import pandas as pd\n",
    "from selenium.common.exceptions import NoSuchElementException\n",
    "import time"
   ]
  },
  {
   "cell_type": "code",
   "execution_count": 127,
   "metadata": {},
   "outputs": [],
   "source": [
    "# Function to replace text in nested sublists\n",
    "def nestrepl(lst, what, repl):\n",
    "    for index, item in enumerate(lst):\n",
    "        if type(item) == list:\n",
    "            nestrepl(item, what, repl)\n",
    "        else:\n",
    "            if item == what:\n",
    "                lst[index] = repl"
   ]
  },
  {
   "cell_type": "code",
   "execution_count": 128,
   "metadata": {},
   "outputs": [
    {
     "data": {
      "text/html": [
       "<div>\n",
       "<style scoped>\n",
       "    .dataframe tbody tr th:only-of-type {\n",
       "        vertical-align: middle;\n",
       "    }\n",
       "\n",
       "    .dataframe tbody tr th {\n",
       "        vertical-align: top;\n",
       "    }\n",
       "\n",
       "    .dataframe thead th {\n",
       "        text-align: right;\n",
       "    }\n",
       "</style>\n",
       "<table border=\"1\" class=\"dataframe\">\n",
       "  <thead>\n",
       "    <tr style=\"text-align: right;\">\n",
       "      <th></th>\n",
       "      <th>University website</th>\n",
       "    </tr>\n",
       "  </thead>\n",
       "  <tbody>\n",
       "    <tr>\n",
       "      <th>0</th>\n",
       "      <td>http://www.adams.edu/</td>\n",
       "    </tr>\n",
       "    <tr>\n",
       "      <th>1</th>\n",
       "      <td>http://www.adelphi.edu/</td>\n",
       "    </tr>\n",
       "    <tr>\n",
       "      <th>2</th>\n",
       "      <td>http://www.adler.edu/</td>\n",
       "    </tr>\n",
       "    <tr>\n",
       "      <th>3</th>\n",
       "      <td>http://www.adrian.edu/</td>\n",
       "    </tr>\n",
       "    <tr>\n",
       "      <th>4</th>\n",
       "      <td>http://www.scottlan.edu/</td>\n",
       "    </tr>\n",
       "    <tr>\n",
       "      <th>5</th>\n",
       "      <td>http://www.afit.af.mil/</td>\n",
       "    </tr>\n",
       "    <tr>\n",
       "      <th>6</th>\n",
       "      <td>http://www.aamu.edu/</td>\n",
       "    </tr>\n",
       "  </tbody>\n",
       "</table>\n",
       "</div>"
      ],
      "text/plain": [
       "         University website\n",
       "0     http://www.adams.edu/\n",
       "1   http://www.adelphi.edu/\n",
       "2     http://www.adler.edu/\n",
       "3    http://www.adrian.edu/\n",
       "4  http://www.scottlan.edu/\n",
       "5   http://www.afit.af.mil/\n",
       "6      http://www.aamu.edu/"
      ]
     },
     "execution_count": 128,
     "metadata": {},
     "output_type": "execute_result"
    }
   ],
   "source": [
    "# Read the csv input file containing list of universities websites\n",
    "df = pd.read_csv(r'Book1.csv')\n",
    "df"
   ]
  },
  {
   "cell_type": "code",
   "execution_count": 129,
   "metadata": {},
   "outputs": [],
   "source": [
    "# Setting up the driver. Install the necessary drivers for selenium. I have used gecko driver for firefox\n",
    "driver = webdriver.Firefox() "
   ]
  },
  {
   "cell_type": "code",
   "execution_count": 130,
   "metadata": {},
   "outputs": [
    {
     "name": "stderr",
     "output_type": "stream",
     "text": [
      "C:\\Users\\Dhivya\\anaconda3\\lib\\site-packages\\ipykernel_launcher.py:12: DeprecationWarning: use driver.switch_to.window instead\n",
      "  if sys.path[0] == '':\n"
     ]
    },
    {
     "name": "stdout",
     "output_type": "stream",
     "text": [
      "[['None', 'https://asugrizzlies.com/'], ['https://aupanthers.com/'], ['None', 'None', 'None', 'None'], ['https://adrianbulldogs.com/landing/index'], ['None', 'None', 'None', 'None'], ['None', 'None', 'None', 'None'], ['https://www.aamu.edu/athletics/index.html']]\n"
     ]
    }
   ],
   "source": [
    "#Finding the url\n",
    "elements = ['Athletics', 'ATHLETICS', 'Sports', 'SPORTS'] #add other categories also if you have\n",
    "athleticsurl = []\n",
    "for i in range(len(df)):\n",
    "    url = []\n",
    "    website = df['University website'][i]\n",
    "    driver.get(website)\n",
    "    for j in elements:\n",
    "        try:\n",
    "            link = driver.find_element_by_link_text(j)\n",
    "            link.click()\n",
    "            driver.switch_to_window(driver.window_handles[-1])\n",
    "            time.sleep(5)\n",
    "            url.append(driver.current_url)\n",
    "            break\n",
    "        except NoSuchElementException:\n",
    "            url.append('None')\n",
    "    athleticsurl.append(url)\n",
    "\n",
    "print(athleticsurl)"
   ]
  },
  {
   "cell_type": "code",
   "execution_count": 131,
   "metadata": {},
   "outputs": [],
   "source": [
    "#Cleaning and printing the result\n",
    "\n",
    "#Removing none\n",
    "nestrepl(athleticsurl, 'None', '')\n",
    "\n",
    "#Combining it to a single list\n",
    "sportslist = []\n",
    "for i in range(len(athleticsurl)):\n",
    "    t = \"\"\n",
    "    for j in range(len(athleticsurl[i])):\n",
    "        t += athleticsurl[i][j]\n",
    "    sportslist.append(t)"
   ]
  },
  {
   "cell_type": "code",
   "execution_count": 132,
   "metadata": {},
   "outputs": [
    {
     "data": {
      "text/plain": [
       "['https://asugrizzlies.com/',\n",
       " 'https://aupanthers.com/',\n",
       " '',\n",
       " 'https://adrianbulldogs.com/landing/index',\n",
       " '',\n",
       " '',\n",
       " 'https://www.aamu.edu/athletics/index.html']"
      ]
     },
     "execution_count": 132,
     "metadata": {},
     "output_type": "execute_result"
    }
   ],
   "source": [
    "#Printing the list\n",
    "sportslist"
   ]
  },
  {
   "cell_type": "code",
   "execution_count": 133,
   "metadata": {},
   "outputs": [],
   "source": [
    "#Convertint to dataframe\n",
    "data = pd.DataFrame(sportslist, columns =['Sports website']) "
   ]
  },
  {
   "cell_type": "code",
   "execution_count": 134,
   "metadata": {
    "scrolled": true
   },
   "outputs": [
    {
     "data": {
      "text/html": [
       "<div>\n",
       "<style scoped>\n",
       "    .dataframe tbody tr th:only-of-type {\n",
       "        vertical-align: middle;\n",
       "    }\n",
       "\n",
       "    .dataframe tbody tr th {\n",
       "        vertical-align: top;\n",
       "    }\n",
       "\n",
       "    .dataframe thead th {\n",
       "        text-align: right;\n",
       "    }\n",
       "</style>\n",
       "<table border=\"1\" class=\"dataframe\">\n",
       "  <thead>\n",
       "    <tr style=\"text-align: right;\">\n",
       "      <th></th>\n",
       "      <th>University website</th>\n",
       "      <th>Sports website</th>\n",
       "    </tr>\n",
       "  </thead>\n",
       "  <tbody>\n",
       "    <tr>\n",
       "      <th>0</th>\n",
       "      <td>http://www.adams.edu/</td>\n",
       "      <td>https://asugrizzlies.com/</td>\n",
       "    </tr>\n",
       "    <tr>\n",
       "      <th>1</th>\n",
       "      <td>http://www.adelphi.edu/</td>\n",
       "      <td>https://aupanthers.com/</td>\n",
       "    </tr>\n",
       "    <tr>\n",
       "      <th>2</th>\n",
       "      <td>http://www.adler.edu/</td>\n",
       "      <td></td>\n",
       "    </tr>\n",
       "    <tr>\n",
       "      <th>3</th>\n",
       "      <td>http://www.adrian.edu/</td>\n",
       "      <td>https://adrianbulldogs.com/landing/index</td>\n",
       "    </tr>\n",
       "    <tr>\n",
       "      <th>4</th>\n",
       "      <td>http://www.scottlan.edu/</td>\n",
       "      <td></td>\n",
       "    </tr>\n",
       "    <tr>\n",
       "      <th>5</th>\n",
       "      <td>http://www.afit.af.mil/</td>\n",
       "      <td></td>\n",
       "    </tr>\n",
       "    <tr>\n",
       "      <th>6</th>\n",
       "      <td>http://www.aamu.edu/</td>\n",
       "      <td>https://www.aamu.edu/athletics/index.html</td>\n",
       "    </tr>\n",
       "  </tbody>\n",
       "</table>\n",
       "</div>"
      ],
      "text/plain": [
       "         University website                             Sports website\n",
       "0     http://www.adams.edu/                  https://asugrizzlies.com/\n",
       "1   http://www.adelphi.edu/                    https://aupanthers.com/\n",
       "2     http://www.adler.edu/                                           \n",
       "3    http://www.adrian.edu/   https://adrianbulldogs.com/landing/index\n",
       "4  http://www.scottlan.edu/                                           \n",
       "5   http://www.afit.af.mil/                                           \n",
       "6      http://www.aamu.edu/  https://www.aamu.edu/athletics/index.html"
      ]
     },
     "execution_count": 134,
     "metadata": {},
     "output_type": "execute_result"
    }
   ],
   "source": [
    "#Concatenating 2 dataframe\n",
    "df_col = pd.concat([df,data], axis=1)\n",
    "df_col"
   ]
  },
  {
   "cell_type": "code",
   "execution_count": 135,
   "metadata": {},
   "outputs": [],
   "source": [
    "#Converting to csv\n",
    "df_col.to_csv('output.csv')"
   ]
  },
  {
   "cell_type": "code",
   "execution_count": null,
   "metadata": {},
   "outputs": [],
   "source": []
  },
  {
   "cell_type": "code",
   "execution_count": null,
   "metadata": {},
   "outputs": [],
   "source": []
  }
 ],
 "metadata": {
  "kernelspec": {
   "display_name": "Python 3",
   "language": "python",
   "name": "python3"
  },
  "language_info": {
   "codemirror_mode": {
    "name": "ipython",
    "version": 3
   },
   "file_extension": ".py",
   "mimetype": "text/x-python",
   "name": "python",
   "nbconvert_exporter": "python",
   "pygments_lexer": "ipython3",
   "version": "3.7.6"
  }
 },
 "nbformat": 4,
 "nbformat_minor": 4
}
